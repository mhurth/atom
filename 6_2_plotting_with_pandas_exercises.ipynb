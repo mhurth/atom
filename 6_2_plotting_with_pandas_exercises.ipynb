{
  "nbformat": 4,
  "nbformat_minor": 0,
  "metadata": {
    "colab": {
      "name": "6.2_plotting-with-pandas_exercises.ipynb",
      "version": "0.3.2",
      "provenance": [],
      "collapsed_sections": [],
      "include_colab_link": true
    },
    "kernelspec": {
      "name": "python3",
      "display_name": "Python 3"
    }
  },
  "cells": [
    {
      "cell_type": "markdown",
      "metadata": {
        "id": "view-in-github",
        "colab_type": "text"
      },
      "source": [
        "<a href=\"https://colab.research.google.com/github/mhurth/atom/blob/master/6_2_plotting_with_pandas_exercises.ipynb\" target=\"_parent\"><img src=\"https://colab.research.google.com/assets/colab-badge.svg\" alt=\"Open In Colab\"/></a>"
      ]
    },
    {
      "metadata": {
        "id": "zjA-fzBtFv8T",
        "colab_type": "text"
      },
      "cell_type": "markdown",
      "source": [
        "## `Import Pandas as pd`\n",
        "## `%matplotlib inline`"
      ]
    },
    {
      "metadata": {
        "id": "5vAcgsafFv8W",
        "colab_type": "code",
        "colab": {}
      },
      "cell_type": "code",
      "source": [
        "import pandas as pd\n",
        "%matplotlib inline"
      ],
      "execution_count": 0,
      "outputs": []
    },
    {
      "metadata": {
        "id": "LaOPcHQ4JWOV",
        "colab_type": "code",
        "colab": {}
      },
      "cell_type": "code",
      "source": [
        ""
      ],
      "execution_count": 0,
      "outputs": []
    },
    {
      "metadata": {
        "id": "EeQvvTPrFv8o",
        "colab_type": "text"
      },
      "cell_type": "markdown",
      "source": [
        "## Load in the file `price_data.csv` into an object called `data`\n",
        "Look at its first few rows using `.head()`."
      ]
    },
    {
      "metadata": {
        "id": "QgKMlITiFv8r",
        "colab_type": "code",
        "colab": {
          "base_uri": "https://localhost:8080/",
          "height": 204
        },
        "outputId": "33cc78cc-75b7-4fb8-842f-2634e74c08c6"
      },
      "cell_type": "code",
      "source": [
        "price_data = 'https://ga-instruction.s3.amazonaws.com/assets/Data%20Fundamentals/linked-csv-files/price_data.csv'\n",
        "data = pd.read_csv(price_data)\n",
        "data.head()"
      ],
      "execution_count": 11,
      "outputs": [
        {
          "output_type": "execute_result",
          "data": {
            "text/html": [
              "<div>\n",
              "<style scoped>\n",
              "    .dataframe tbody tr th:only-of-type {\n",
              "        vertical-align: middle;\n",
              "    }\n",
              "\n",
              "    .dataframe tbody tr th {\n",
              "        vertical-align: top;\n",
              "    }\n",
              "\n",
              "    .dataframe thead th {\n",
              "        text-align: right;\n",
              "    }\n",
              "</style>\n",
              "<table border=\"1\" class=\"dataframe\">\n",
              "  <thead>\n",
              "    <tr style=\"text-align: right;\">\n",
              "      <th></th>\n",
              "      <th>country</th>\n",
              "      <th>price</th>\n",
              "    </tr>\n",
              "  </thead>\n",
              "  <tbody>\n",
              "    <tr>\n",
              "      <th>0</th>\n",
              "      <td>Bangladesh</td>\n",
              "      <td>1.322750</td>\n",
              "    </tr>\n",
              "    <tr>\n",
              "      <th>1</th>\n",
              "      <td>Bangladesh</td>\n",
              "      <td>0.577200</td>\n",
              "    </tr>\n",
              "    <tr>\n",
              "      <th>2</th>\n",
              "      <td>Bangladesh</td>\n",
              "      <td>4.930249</td>\n",
              "    </tr>\n",
              "    <tr>\n",
              "      <th>3</th>\n",
              "      <td>Bangladesh</td>\n",
              "      <td>0.360750</td>\n",
              "    </tr>\n",
              "    <tr>\n",
              "      <th>4</th>\n",
              "      <td>Bangladesh</td>\n",
              "      <td>0.601206</td>\n",
              "    </tr>\n",
              "  </tbody>\n",
              "</table>\n",
              "</div>"
            ],
            "text/plain": [
              "      country     price\n",
              "0  Bangladesh  1.322750\n",
              "1  Bangladesh  0.577200\n",
              "2  Bangladesh  4.930249\n",
              "3  Bangladesh  0.360750\n",
              "4  Bangladesh  0.601206"
            ]
          },
          "metadata": {
            "tags": []
          },
          "execution_count": 11
        }
      ]
    },
    {
      "metadata": {
        "id": "7UIHL8gjFv81",
        "colab_type": "text"
      },
      "cell_type": "markdown",
      "source": [
        "## Use `.plot()` on the entire `DataFrame`."
      ]
    },
    {
      "metadata": {
        "id": "Ko00C4dvFv83",
        "colab_type": "code",
        "colab": {
          "base_uri": "https://localhost:8080/",
          "height": 286
        },
        "outputId": "253adcc7-5219-4e31-a791-3440b6c8a8d9"
      },
      "cell_type": "code",
      "source": [
        "data.plot()"
      ],
      "execution_count": 5,
      "outputs": [
        {
          "output_type": "execute_result",
          "data": {
            "text/plain": [
              "<matplotlib.axes._subplots.AxesSubplot at 0x7f8f89b60cc0>"
            ]
          },
          "metadata": {
            "tags": []
          },
          "execution_count": 5
        },
        {
          "output_type": "display_data",
          "data": {
            "image/png": "[encoded data removed]",
            "text/plain": [
              "<Figure size 432x288 with 1 Axes>"
            ]
          },
          "metadata": {
            "tags": []
          }
        }
      ]
    },
    {
      "metadata": {
        "id": "kx6JNVinFv88",
        "colab_type": "text"
      },
      "cell_type": "markdown",
      "source": [
        "## Use `reset_index` to make a separate column out of the index."
      ]
    },
    {
      "metadata": {
        "id": "5bJCXwe-Fv8-",
        "colab_type": "code",
        "colab": {}
      },
      "cell_type": "code",
      "source": [
        "data.reset_index(inplace=True)"
      ],
      "execution_count": 0,
      "outputs": []
    },
    {
      "metadata": {
        "id": "MnoLyYPQFv9C",
        "colab_type": "text"
      },
      "cell_type": "markdown",
      "source": [
        "## Make it a scatterplot by passing in `kind='scatter'`."
      ]
    },
    {
      "metadata": {
        "id": "Ogy0R-m6Fv9E",
        "colab_type": "code",
        "colab": {
          "base_uri": "https://localhost:8080/",
          "height": 300
        },
        "outputId": "88a80197-5475-4459-a356-43c566952e3a"
      },
      "cell_type": "code",
      "source": [
        "data.plot.scatter(x=\"index\",y=\"price\")"
      ],
      "execution_count": 18,
      "outputs": [
        {
          "output_type": "execute_result",
          "data": {
            "text/plain": [
              "<matplotlib.axes._subplots.AxesSubplot at 0x7f8f873e2550>"
            ]
          },
          "metadata": {
            "tags": []
          },
          "execution_count": 18
        },
        {
          "output_type": "display_data",
          "data": {
            "image/png": "[encoded data removed]",
            "text/plain": [
              "<Figure size 432x288 with 1 Axes>"
            ]
          },
          "metadata": {
            "tags": []
          }
        }
      ]
    },
    {
      "metadata": {
        "id": "3QQ-xvgfFv9R",
        "colab_type": "text"
      },
      "cell_type": "markdown",
      "source": [
        "## Make it a histogram of prices by passing in `kind=\"hist\"` and `y=price`."
      ]
    },
    {
      "metadata": {
        "id": "_xB5j_3zFv9k",
        "colab_type": "code",
        "colab": {
          "base_uri": "https://localhost:8080/",
          "height": 315
        },
        "outputId": "a115a700-d87e-4c56-8981-2f1ec0e56619"
      },
      "cell_type": "code",
      "source": [
        "data.hist(column=\"price\",bins=50)"
      ],
      "execution_count": 22,
      "outputs": [
        {
          "output_type": "execute_result",
          "data": {
            "text/plain": [
              "array([[<matplotlib.axes._subplots.AxesSubplot object at 0x7f8f8725a048>]],\n",
              "      dtype=object)"
            ]
          },
          "metadata": {
            "tags": []
          },
          "execution_count": 22
        },
        {
          "output_type": "display_data",
          "data": {
            "image/png": "[encoded data removed]",
            "text/plain": [
              "<Figure size 432x288 with 1 Axes>"
            ]
          },
          "metadata": {
            "tags": []
          }
        }
      ]
    },
    {
      "metadata": {
        "id": "LBmvhg6JFv9o",
        "colab_type": "text"
      },
      "cell_type": "markdown",
      "source": [
        "## Use `.value_counts()` to count the number of entries per country in the `country` column and plot using `kind='bar'`."
      ]
    },
    {
      "metadata": {
        "id": "mBKCfL1pFv9p",
        "colab_type": "code",
        "colab": {
          "base_uri": "https://localhost:8080/",
          "height": 335
        },
        "outputId": "3a3faa0b-6fdc-4202-dda5-d4c1020f09fa"
      },
      "cell_type": "code",
      "source": [
        "data.country.value_counts().plot.bar()"
      ],
      "execution_count": 25,
      "outputs": [
        {
          "output_type": "execute_result",
          "data": {
            "text/plain": [
              "<matplotlib.axes._subplots.AxesSubplot at 0x7f8f871bcb70>"
            ]
          },
          "metadata": {
            "tags": []
          },
          "execution_count": 25
        },
        {
          "output_type": "display_data",
          "data": {
            "image/png": "[encoded data removed]",
            "text/plain": [
              "<Figure size 432x288 with 1 Axes>"
            ]
          },
          "metadata": {
            "tags": []
          }
        }
      ]
    },
    {
      "metadata": {
        "id": "_Vd2SwJ0Fv9t",
        "colab_type": "code",
        "colab": {}
      },
      "cell_type": "code",
      "source": [
        ""
      ],
      "execution_count": 0,
      "outputs": []
    },
    {
      "metadata": {
        "id": "ybAj08L2Fv9w",
        "colab_type": "code",
        "colab": {}
      },
      "cell_type": "code",
      "source": [
        ""
      ],
      "execution_count": 0,
      "outputs": []
    }
  ]
}